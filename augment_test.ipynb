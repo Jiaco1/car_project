{
 "cells": [
  {
   "cell_type": "code",
   "execution_count": 1,
   "id": "813830f5",
   "metadata": {},
   "outputs": [],
   "source": [
    "import Augmentor"
   ]
  },
  {
   "cell_type": "code",
   "execution_count": 2,
   "id": "e96014d8",
   "metadata": {},
   "outputs": [
    {
     "name": "stdout",
     "output_type": "stream",
     "text": [
      "Initialised with 10 image(s) found.\n",
      "Output directory set to ./car sign.v2-car-sign-ver.2-104-images.yolov5pytorch(1)/test/output."
     ]
    }
   ],
   "source": [
    "img = Augmentor.Pipeline(\"./car sign.v2-car-sign-ver.2-104-images.yolov5pytorch(1)/test\")"
   ]
  },
  {
   "cell_type": "code",
   "execution_count": 3,
   "id": "38c0b0b8",
   "metadata": {},
   "outputs": [],
   "source": [
    "img.flip_left_right(probability=1.0)"
   ]
  },
  {
   "cell_type": "code",
   "execution_count": null,
   "id": "ed51e074",
   "metadata": {},
   "outputs": [],
   "source": [
    "img"
   ]
  },
  {
   "cell_type": "code",
   "execution_count": null,
   "id": "d8b2e373",
   "metadata": {},
   "outputs": [],
   "source": []
  }
 ],
 "metadata": {
  "kernelspec": {
   "display_name": ".venv",
   "language": "python",
   "name": "python3"
  },
  "language_info": {
   "codemirror_mode": {
    "name": "ipython",
    "version": 3
   },
   "file_extension": ".py",
   "mimetype": "text/x-python",
   "name": "python",
   "nbconvert_exporter": "python",
   "pygments_lexer": "ipython3",
   "version": "3.12.3"
  }
 },
 "nbformat": 4,
 "nbformat_minor": 5
}
